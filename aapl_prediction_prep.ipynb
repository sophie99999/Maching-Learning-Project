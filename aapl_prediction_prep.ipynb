{
 "cells": [
  {
   "cell_type": "code",
   "execution_count": 183,
   "metadata": {},
   "outputs": [],
   "source": [
    "import pandas as pd\n",
    "from datetime import datetime\n",
    "from pymongo import MongoClient"
   ]
  },
  {
   "cell_type": "code",
   "execution_count": 195,
   "metadata": {},
   "outputs": [],
   "source": [
    "def format_dates(dataframe):\n",
    "    date_list = []\n",
    "    \n",
    "    for index,row in dataframe.iterrows():\n",
    "        month = row['Month']\n",
    "        day = row['Day']\n",
    "        year = row['Year']\n",
    "        \n",
    "        if month < 10:\n",
    "            month = f\"0{row['Month']}\"\n",
    "        if day < 10:\n",
    "            day = f\"0{row['Day']}\"\n",
    "        \n",
    "        formatted_date = datetime.strptime(f\"{year}-{month}-{day}\", \"%Y-%m-%d\")\n",
    "        clean_date = formatted_date.strftime('%Y-%m-%d')\n",
    "        date_list.append(clean_date)\n",
    "        \n",
    "    return date_list"
   ]
  },
  {
   "cell_type": "code",
   "execution_count": 196,
   "metadata": {},
   "outputs": [],
   "source": [
    "# 5 year train data linear regression"
   ]
  },
  {
   "cell_type": "code",
   "execution_count": 197,
   "metadata": {},
   "outputs": [],
   "source": [
    "df = pd.read_csv('/Users/devinbarger/Desktop/Project3/train_data_5_aapl_lr.csv')"
   ]
  },
  {
   "cell_type": "code",
   "execution_count": 198,
   "metadata": {},
   "outputs": [],
   "source": [
    "df.drop(columns='Unnamed: 0',inplace=True)"
   ]
  },
  {
   "cell_type": "code",
   "execution_count": 199,
   "metadata": {},
   "outputs": [],
   "source": [
    "df['Dates'] = format_dates(df)"
   ]
  },
  {
   "cell_type": "code",
   "execution_count": 200,
   "metadata": {},
   "outputs": [
    {
     "data": {
      "text/html": [
       "<div>\n",
       "<style scoped>\n",
       "    .dataframe tbody tr th:only-of-type {\n",
       "        vertical-align: middle;\n",
       "    }\n",
       "\n",
       "    .dataframe tbody tr th {\n",
       "        vertical-align: top;\n",
       "    }\n",
       "\n",
       "    .dataframe thead th {\n",
       "        text-align: right;\n",
       "    }\n",
       "</style>\n",
       "<table border=\"1\" class=\"dataframe\">\n",
       "  <thead>\n",
       "    <tr style=\"text-align: right;\">\n",
       "      <th></th>\n",
       "      <th>adj_close</th>\n",
       "      <th>Dates</th>\n",
       "    </tr>\n",
       "  </thead>\n",
       "  <tbody>\n",
       "    <tr>\n",
       "      <th>0</th>\n",
       "      <td>56.118870</td>\n",
       "      <td>2013-01-02</td>\n",
       "    </tr>\n",
       "    <tr>\n",
       "      <th>1</th>\n",
       "      <td>55.410530</td>\n",
       "      <td>2013-01-03</td>\n",
       "    </tr>\n",
       "    <tr>\n",
       "      <th>2</th>\n",
       "      <td>53.867073</td>\n",
       "      <td>2013-01-04</td>\n",
       "    </tr>\n",
       "    <tr>\n",
       "      <th>3</th>\n",
       "      <td>53.550209</td>\n",
       "      <td>2013-01-07</td>\n",
       "    </tr>\n",
       "    <tr>\n",
       "      <th>4</th>\n",
       "      <td>53.694336</td>\n",
       "      <td>2013-01-08</td>\n",
       "    </tr>\n",
       "  </tbody>\n",
       "</table>\n",
       "</div>"
      ],
      "text/plain": [
       "   adj_close       Dates\n",
       "0  56.118870  2013-01-02\n",
       "1  55.410530  2013-01-03\n",
       "2  53.867073  2013-01-04\n",
       "3  53.550209  2013-01-07\n",
       "4  53.694336  2013-01-08"
      ]
     },
     "execution_count": 200,
     "metadata": {},
     "output_type": "execute_result"
    }
   ],
   "source": [
    "regression_five_training = df[['adj_close', 'Dates']]\n",
    "regression_five_training.head()"
   ]
  },
  {
   "cell_type": "code",
   "execution_count": 201,
   "metadata": {},
   "outputs": [],
   "source": [
    "regression_five_training.to_csv('~/Desktop/Project3/regression_five_training_clean.csv')"
   ]
  },
  {
   "cell_type": "code",
   "execution_count": 202,
   "metadata": {},
   "outputs": [],
   "source": [
    "# 5 year test data linear regression"
   ]
  },
  {
   "cell_type": "code",
   "execution_count": 203,
   "metadata": {},
   "outputs": [],
   "source": [
    "df = pd.read_csv('/Users/devinbarger/Desktop/Project3/test_data_5_aapl_lr.csv')"
   ]
  },
  {
   "cell_type": "code",
   "execution_count": 204,
   "metadata": {},
   "outputs": [],
   "source": [
    "df['Dates'] = format_dates(df)"
   ]
  },
  {
   "cell_type": "code",
   "execution_count": 205,
   "metadata": {},
   "outputs": [
    {
     "data": {
      "text/html": [
       "<div>\n",
       "<style scoped>\n",
       "    .dataframe tbody tr th:only-of-type {\n",
       "        vertical-align: middle;\n",
       "    }\n",
       "\n",
       "    .dataframe tbody tr th {\n",
       "        vertical-align: top;\n",
       "    }\n",
       "\n",
       "    .dataframe thead th {\n",
       "        text-align: right;\n",
       "    }\n",
       "</style>\n",
       "<table border=\"1\" class=\"dataframe\">\n",
       "  <thead>\n",
       "    <tr style=\"text-align: right;\">\n",
       "      <th></th>\n",
       "      <th>adj_close</th>\n",
       "      <th>pred</th>\n",
       "      <th>Dates</th>\n",
       "    </tr>\n",
       "  </thead>\n",
       "  <tbody>\n",
       "    <tr>\n",
       "      <th>0</th>\n",
       "      <td>170.304230</td>\n",
       "      <td>145.478895</td>\n",
       "      <td>2018-01-02</td>\n",
       "    </tr>\n",
       "    <tr>\n",
       "      <th>1</th>\n",
       "      <td>170.274567</td>\n",
       "      <td>145.528956</td>\n",
       "      <td>2018-01-03</td>\n",
       "    </tr>\n",
       "    <tr>\n",
       "      <th>2</th>\n",
       "      <td>171.065506</td>\n",
       "      <td>145.579017</td>\n",
       "      <td>2018-01-04</td>\n",
       "    </tr>\n",
       "    <tr>\n",
       "      <th>3</th>\n",
       "      <td>173.013123</td>\n",
       "      <td>145.629078</td>\n",
       "      <td>2018-01-05</td>\n",
       "    </tr>\n",
       "    <tr>\n",
       "      <th>4</th>\n",
       "      <td>172.370514</td>\n",
       "      <td>145.788824</td>\n",
       "      <td>2018-01-08</td>\n",
       "    </tr>\n",
       "  </tbody>\n",
       "</table>\n",
       "</div>"
      ],
      "text/plain": [
       "    adj_close        pred       Dates\n",
       "0  170.304230  145.478895  2018-01-02\n",
       "1  170.274567  145.528956  2018-01-03\n",
       "2  171.065506  145.579017  2018-01-04\n",
       "3  173.013123  145.629078  2018-01-05\n",
       "4  172.370514  145.788824  2018-01-08"
      ]
     },
     "execution_count": 205,
     "metadata": {},
     "output_type": "execute_result"
    }
   ],
   "source": [
    "regression_five_test = df[['adj_close', 'pred', 'Dates']]\n",
    "regression_five_test.head()"
   ]
  },
  {
   "cell_type": "code",
   "execution_count": 206,
   "metadata": {},
   "outputs": [],
   "source": [
    "regression_five_test.to_csv('/Users/devinbarger/Desktop/Project3/regression_five_test_clean.csv')"
   ]
  },
  {
   "cell_type": "code",
   "execution_count": 207,
   "metadata": {},
   "outputs": [],
   "source": [
    "# 5 year regression data\n",
    "client = MongoClient('mongodb://localhost:27017/')\n",
    "db = client.stocks\n",
    "col = db.aapl_five_regression\n",
    "\n",
    "data_list = []\n",
    "    \n",
    "for index,row in regression_five_training.iterrows():\n",
    "    training_dict = {}\n",
    "    training_dict['adj_close'] = row['adj_close']\n",
    "    training_dict['date'] = row['Dates']\n",
    "    training_dict['set'] = 'training'\n",
    "    data_list.append(training_dict)\n",
    "    \n",
    "for index,row in regression_five_test.iterrows():\n",
    "    test_dict = {}\n",
    "    test_dict['adj_close'] = row['adj_close']\n",
    "    test_dict['date'] = row['Dates']\n",
    "    test_dict['pred'] = row['pred']\n",
    "    test_dict['set'] = 'test'\n",
    "    data_list.append(test_dict)\n",
    "    \n",
    "for data in data_list:\n",
    "    col.insert_one(data)"
   ]
  },
  {
   "cell_type": "code",
   "execution_count": 208,
   "metadata": {},
   "outputs": [],
   "source": [
    "# 10 year train data linear regression"
   ]
  },
  {
   "cell_type": "code",
   "execution_count": 209,
   "metadata": {},
   "outputs": [],
   "source": [
    "df = pd.read_csv('/Users/devinbarger/Desktop/Project3/train_data_10_aapl_lr.csv')"
   ]
  },
  {
   "cell_type": "code",
   "execution_count": 210,
   "metadata": {},
   "outputs": [],
   "source": [
    "df.drop(columns='Unnamed: 0',inplace=True)"
   ]
  },
  {
   "cell_type": "code",
   "execution_count": 211,
   "metadata": {},
   "outputs": [],
   "source": [
    "df['Dates'] = format_dates(df)"
   ]
  },
  {
   "cell_type": "code",
   "execution_count": 212,
   "metadata": {},
   "outputs": [],
   "source": [
    "regression_ten_train = df[['adj_close', 'Dates']]"
   ]
  },
  {
   "cell_type": "code",
   "execution_count": 213,
   "metadata": {},
   "outputs": [
    {
     "data": {
      "text/html": [
       "<div>\n",
       "<style scoped>\n",
       "    .dataframe tbody tr th:only-of-type {\n",
       "        vertical-align: middle;\n",
       "    }\n",
       "\n",
       "    .dataframe tbody tr th {\n",
       "        vertical-align: top;\n",
       "    }\n",
       "\n",
       "    .dataframe thead th {\n",
       "        text-align: right;\n",
       "    }\n",
       "</style>\n",
       "<table border=\"1\" class=\"dataframe\">\n",
       "  <thead>\n",
       "    <tr style=\"text-align: right;\">\n",
       "      <th></th>\n",
       "      <th>adj_close</th>\n",
       "      <th>Dates</th>\n",
       "    </tr>\n",
       "  </thead>\n",
       "  <tbody>\n",
       "    <tr>\n",
       "      <th>0</th>\n",
       "      <td>18.704624</td>\n",
       "      <td>2008-01-02</td>\n",
       "    </tr>\n",
       "    <tr>\n",
       "      <th>1</th>\n",
       "      <td>18.713264</td>\n",
       "      <td>2008-01-03</td>\n",
       "    </tr>\n",
       "    <tr>\n",
       "      <th>2</th>\n",
       "      <td>17.284782</td>\n",
       "      <td>2008-01-04</td>\n",
       "    </tr>\n",
       "    <tr>\n",
       "      <th>3</th>\n",
       "      <td>17.053425</td>\n",
       "      <td>2008-01-07</td>\n",
       "    </tr>\n",
       "    <tr>\n",
       "      <th>4</th>\n",
       "      <td>16.439983</td>\n",
       "      <td>2008-01-08</td>\n",
       "    </tr>\n",
       "  </tbody>\n",
       "</table>\n",
       "</div>"
      ],
      "text/plain": [
       "   adj_close       Dates\n",
       "0  18.704624  2008-01-02\n",
       "1  18.713264  2008-01-03\n",
       "2  17.284782  2008-01-04\n",
       "3  17.053425  2008-01-07\n",
       "4  16.439983  2008-01-08"
      ]
     },
     "execution_count": 213,
     "metadata": {},
     "output_type": "execute_result"
    }
   ],
   "source": [
    "regression_ten_train.head()"
   ]
  },
  {
   "cell_type": "code",
   "execution_count": 214,
   "metadata": {},
   "outputs": [],
   "source": [
    "regression_ten_train.to_csv('/Users/devinbarger/Desktop/Project3/regression_ten_training_clean.csv')"
   ]
  },
  {
   "cell_type": "code",
   "execution_count": 215,
   "metadata": {},
   "outputs": [],
   "source": [
    "# 10 year test data linear regression"
   ]
  },
  {
   "cell_type": "code",
   "execution_count": 216,
   "metadata": {},
   "outputs": [],
   "source": [
    "df = pd.read_csv('/Users/devinbarger/Desktop/Project3/test_data_10_aapl_lr.csv')"
   ]
  },
  {
   "cell_type": "code",
   "execution_count": 217,
   "metadata": {},
   "outputs": [],
   "source": [
    "df.drop(columns='Unnamed: 0',inplace=True)"
   ]
  },
  {
   "cell_type": "code",
   "execution_count": 218,
   "metadata": {},
   "outputs": [],
   "source": [
    "df['Dates'] = format_dates(df)"
   ]
  },
  {
   "cell_type": "code",
   "execution_count": 219,
   "metadata": {},
   "outputs": [
    {
     "data": {
      "text/html": [
       "<div>\n",
       "<style scoped>\n",
       "    .dataframe tbody tr th:only-of-type {\n",
       "        vertical-align: middle;\n",
       "    }\n",
       "\n",
       "    .dataframe tbody tr th {\n",
       "        vertical-align: top;\n",
       "    }\n",
       "\n",
       "    .dataframe thead th {\n",
       "        text-align: right;\n",
       "    }\n",
       "</style>\n",
       "<table border=\"1\" class=\"dataframe\">\n",
       "  <thead>\n",
       "    <tr style=\"text-align: right;\">\n",
       "      <th></th>\n",
       "      <th>adj_close</th>\n",
       "      <th>pred</th>\n",
       "      <th>Dates</th>\n",
       "    </tr>\n",
       "  </thead>\n",
       "  <tbody>\n",
       "    <tr>\n",
       "      <th>0</th>\n",
       "      <td>113.013916</td>\n",
       "      <td>114.230122</td>\n",
       "      <td>2017-01-03</td>\n",
       "    </tr>\n",
       "    <tr>\n",
       "      <th>1</th>\n",
       "      <td>112.887413</td>\n",
       "      <td>114.196219</td>\n",
       "      <td>2017-01-04</td>\n",
       "    </tr>\n",
       "    <tr>\n",
       "      <th>2</th>\n",
       "      <td>113.461502</td>\n",
       "      <td>114.162317</td>\n",
       "      <td>2017-01-05</td>\n",
       "    </tr>\n",
       "    <tr>\n",
       "      <th>3</th>\n",
       "      <td>114.726402</td>\n",
       "      <td>114.128414</td>\n",
       "      <td>2017-01-06</td>\n",
       "    </tr>\n",
       "    <tr>\n",
       "      <th>4</th>\n",
       "      <td>115.777237</td>\n",
       "      <td>114.583154</td>\n",
       "      <td>2017-01-09</td>\n",
       "    </tr>\n",
       "  </tbody>\n",
       "</table>\n",
       "</div>"
      ],
      "text/plain": [
       "    adj_close        pred       Dates\n",
       "0  113.013916  114.230122  2017-01-03\n",
       "1  112.887413  114.196219  2017-01-04\n",
       "2  113.461502  114.162317  2017-01-05\n",
       "3  114.726402  114.128414  2017-01-06\n",
       "4  115.777237  114.583154  2017-01-09"
      ]
     },
     "execution_count": 219,
     "metadata": {},
     "output_type": "execute_result"
    }
   ],
   "source": [
    "regression_ten_test = df[['adj_close', 'pred', 'Dates']]\n",
    "regression_ten_test.head()"
   ]
  },
  {
   "cell_type": "code",
   "execution_count": 220,
   "metadata": {},
   "outputs": [],
   "source": [
    "regression_ten_test.to_csv('/Users/devinbarger/Desktop/Project3/regression_ten_test_clean.csv')"
   ]
  },
  {
   "cell_type": "code",
   "execution_count": 221,
   "metadata": {},
   "outputs": [],
   "source": [
    "# 10 year regression data\n",
    "client = MongoClient('mongodb://localhost:27017/')\n",
    "db = client.stocks\n",
    "col = db.aapl_ten_regression\n",
    "\n",
    "data_list = []\n",
    "    \n",
    "for index,row in regression_ten_train.iterrows():\n",
    "    training_dict = {}\n",
    "    training_dict['adj_close'] = row['adj_close']\n",
    "    training_dict['date'] = row['Dates']\n",
    "    training_dict['set'] = 'training'\n",
    "    data_list.append(training_dict)\n",
    "    \n",
    "for index,row in regression_ten_test.iterrows():\n",
    "    test_dict = {}\n",
    "    test_dict['adj_close'] = row['adj_close']\n",
    "    test_dict['pred'] = row['pred']\n",
    "    test_dict['date'] = row['Dates']\n",
    "    test_dict['set'] = 'test'\n",
    "    data_list.append(test_dict)\n",
    "    \n",
    "for data in data_list:\n",
    "    col.insert_one(data)"
   ]
  },
  {
   "cell_type": "code",
   "execution_count": 222,
   "metadata": {},
   "outputs": [],
   "source": [
    "# Moving Average"
   ]
  },
  {
   "cell_type": "code",
   "execution_count": 223,
   "metadata": {},
   "outputs": [],
   "source": [
    "# 5 year train data moving average"
   ]
  },
  {
   "cell_type": "code",
   "execution_count": 224,
   "metadata": {},
   "outputs": [],
   "source": [
    "df = pd.read_csv('/Users/devinbarger/Desktop/Project3/train_data_5_aapl_mvagv.csv')"
   ]
  },
  {
   "cell_type": "code",
   "execution_count": 225,
   "metadata": {},
   "outputs": [],
   "source": [
    "def mvavg_format_dates(dataframe):\n",
    "    new_dates = []\n",
    "    for index,row in dataframe.iterrows():\n",
    "        original_date = row['date'] \n",
    "        original_date = datetime.strptime(original_date, '%Y-%m-%d %H:%M:%S')\n",
    "        new_date = original_date.strftime(\"%Y-%m-%d\")\n",
    "        new_dates.append(new_date)\n",
    "\n",
    "    return new_dates"
   ]
  },
  {
   "cell_type": "code",
   "execution_count": 226,
   "metadata": {},
   "outputs": [],
   "source": [
    "df['Date'] = mvavg_format_dates(df)"
   ]
  },
  {
   "cell_type": "code",
   "execution_count": 227,
   "metadata": {},
   "outputs": [],
   "source": [
    "df.drop(columns=[\"Unnamed: 0\", \"date\"], inplace=True)"
   ]
  },
  {
   "cell_type": "code",
   "execution_count": 228,
   "metadata": {},
   "outputs": [
    {
     "data": {
      "text/html": [
       "<div>\n",
       "<style scoped>\n",
       "    .dataframe tbody tr th:only-of-type {\n",
       "        vertical-align: middle;\n",
       "    }\n",
       "\n",
       "    .dataframe tbody tr th {\n",
       "        vertical-align: top;\n",
       "    }\n",
       "\n",
       "    .dataframe thead th {\n",
       "        text-align: right;\n",
       "    }\n",
       "</style>\n",
       "<table border=\"1\" class=\"dataframe\">\n",
       "  <thead>\n",
       "    <tr style=\"text-align: right;\">\n",
       "      <th></th>\n",
       "      <th>adj_close</th>\n",
       "      <th>Date</th>\n",
       "    </tr>\n",
       "  </thead>\n",
       "  <tbody>\n",
       "    <tr>\n",
       "      <th>0</th>\n",
       "      <td>56.118870</td>\n",
       "      <td>2013-01-02</td>\n",
       "    </tr>\n",
       "    <tr>\n",
       "      <th>1</th>\n",
       "      <td>55.410530</td>\n",
       "      <td>2013-01-03</td>\n",
       "    </tr>\n",
       "    <tr>\n",
       "      <th>2</th>\n",
       "      <td>53.867073</td>\n",
       "      <td>2013-01-04</td>\n",
       "    </tr>\n",
       "    <tr>\n",
       "      <th>3</th>\n",
       "      <td>53.550209</td>\n",
       "      <td>2013-01-07</td>\n",
       "    </tr>\n",
       "    <tr>\n",
       "      <th>4</th>\n",
       "      <td>53.694336</td>\n",
       "      <td>2013-01-08</td>\n",
       "    </tr>\n",
       "  </tbody>\n",
       "</table>\n",
       "</div>"
      ],
      "text/plain": [
       "   adj_close        Date\n",
       "0  56.118870  2013-01-02\n",
       "1  55.410530  2013-01-03\n",
       "2  53.867073  2013-01-04\n",
       "3  53.550209  2013-01-07\n",
       "4  53.694336  2013-01-08"
      ]
     },
     "execution_count": 228,
     "metadata": {},
     "output_type": "execute_result"
    }
   ],
   "source": [
    "mvavg_five_train = df\n",
    "mvavg_five_train.head()"
   ]
  },
  {
   "cell_type": "code",
   "execution_count": 229,
   "metadata": {},
   "outputs": [],
   "source": [
    "mvavg_five_train.to_csv(\"/Users/devinbarger/Desktop/Project3/mvavg_five_train_clean.csv\")"
   ]
  },
  {
   "cell_type": "code",
   "execution_count": 230,
   "metadata": {},
   "outputs": [],
   "source": [
    "# 5 year test data moving average"
   ]
  },
  {
   "cell_type": "code",
   "execution_count": 231,
   "metadata": {},
   "outputs": [],
   "source": [
    "df = pd.read_csv('/Users/devinbarger/Desktop/Project3/test_data_5_aapl_mvagv.csv')"
   ]
  },
  {
   "cell_type": "code",
   "execution_count": 232,
   "metadata": {},
   "outputs": [],
   "source": [
    "df['Date'] = mvavg_format_dates(df)"
   ]
  },
  {
   "cell_type": "code",
   "execution_count": 233,
   "metadata": {},
   "outputs": [],
   "source": [
    "df.drop(columns=[\"Unnamed: 0\", \"date\"], inplace=True)"
   ]
  },
  {
   "cell_type": "code",
   "execution_count": 234,
   "metadata": {},
   "outputs": [
    {
     "data": {
      "text/html": [
       "<div>\n",
       "<style scoped>\n",
       "    .dataframe tbody tr th:only-of-type {\n",
       "        vertical-align: middle;\n",
       "    }\n",
       "\n",
       "    .dataframe tbody tr th {\n",
       "        vertical-align: top;\n",
       "    }\n",
       "\n",
       "    .dataframe thead th {\n",
       "        text-align: right;\n",
       "    }\n",
       "</style>\n",
       "<table border=\"1\" class=\"dataframe\">\n",
       "  <thead>\n",
       "    <tr style=\"text-align: right;\">\n",
       "      <th></th>\n",
       "      <th>adj_close</th>\n",
       "      <th>pred</th>\n",
       "      <th>Date</th>\n",
       "    </tr>\n",
       "  </thead>\n",
       "  <tbody>\n",
       "    <tr>\n",
       "      <th>0</th>\n",
       "      <td>170.304230</td>\n",
       "      <td>156.170204</td>\n",
       "      <td>2018-01-02</td>\n",
       "    </tr>\n",
       "    <tr>\n",
       "      <th>1</th>\n",
       "      <td>170.274567</td>\n",
       "      <td>156.204889</td>\n",
       "      <td>2018-01-03</td>\n",
       "    </tr>\n",
       "    <tr>\n",
       "      <th>2</th>\n",
       "      <td>171.065506</td>\n",
       "      <td>156.244136</td>\n",
       "      <td>2018-01-04</td>\n",
       "    </tr>\n",
       "    <tr>\n",
       "      <th>3</th>\n",
       "      <td>173.013123</td>\n",
       "      <td>156.275724</td>\n",
       "      <td>2018-01-05</td>\n",
       "    </tr>\n",
       "    <tr>\n",
       "      <th>4</th>\n",
       "      <td>172.370514</td>\n",
       "      <td>156.294640</td>\n",
       "      <td>2018-01-08</td>\n",
       "    </tr>\n",
       "  </tbody>\n",
       "</table>\n",
       "</div>"
      ],
      "text/plain": [
       "    adj_close        pred        Date\n",
       "0  170.304230  156.170204  2018-01-02\n",
       "1  170.274567  156.204889  2018-01-03\n",
       "2  171.065506  156.244136  2018-01-04\n",
       "3  173.013123  156.275724  2018-01-05\n",
       "4  172.370514  156.294640  2018-01-08"
      ]
     },
     "execution_count": 234,
     "metadata": {},
     "output_type": "execute_result"
    }
   ],
   "source": [
    "mvavg_five_test = df\n",
    "mvavg_five_test.head()"
   ]
  },
  {
   "cell_type": "code",
   "execution_count": 235,
   "metadata": {},
   "outputs": [],
   "source": [
    "mvavg_five_test.to_csv('/Users/devinbarger/Desktop/Project3/mvavg_five_test_clean.csv')"
   ]
  },
  {
   "cell_type": "code",
   "execution_count": 236,
   "metadata": {},
   "outputs": [],
   "source": [
    "# 5 year moving average\n",
    "client = MongoClient('mongodb://localhost:27017/')\n",
    "db = client.stocks\n",
    "col = db.aapl_five_mvavg\n",
    "\n",
    "data_list = []\n",
    "    \n",
    "for index,row in mvavg_five_train.iterrows():\n",
    "    training_dict = {}\n",
    "    training_dict['adj_close'] = row['adj_close']\n",
    "    training_dict['date'] = row['Date']\n",
    "    training_dict['set'] = 'training'\n",
    "    data_list.append(training_dict)\n",
    "    \n",
    "for index,row in mvavg_five_test.iterrows():\n",
    "    test_dict = {}\n",
    "    test_dict['adj_close'] = row['adj_close']\n",
    "    test_dict['pred'] = row['pred']\n",
    "    test_dict['date'] = row['Date']\n",
    "    test_dict['set'] = 'test'\n",
    "    data_list.append(test_dict)\n",
    "    \n",
    "for data in data_list:\n",
    "    col.insert_one(data)"
   ]
  },
  {
   "cell_type": "code",
   "execution_count": 237,
   "metadata": {},
   "outputs": [],
   "source": [
    "# 10 year train data moving average"
   ]
  },
  {
   "cell_type": "code",
   "execution_count": 238,
   "metadata": {},
   "outputs": [],
   "source": [
    "df = pd.read_csv(\"/Users/devinbarger/Desktop/Project3/train_data_10_aapl_mvavg.csv\")"
   ]
  },
  {
   "cell_type": "code",
   "execution_count": 239,
   "metadata": {},
   "outputs": [],
   "source": [
    "df['Date'] = mvavg_format_dates(df)"
   ]
  },
  {
   "cell_type": "code",
   "execution_count": 240,
   "metadata": {},
   "outputs": [],
   "source": [
    "df.drop(columns=[\"Unnamed: 0\", \"date\"], inplace=True)"
   ]
  },
  {
   "cell_type": "code",
   "execution_count": 241,
   "metadata": {},
   "outputs": [
    {
     "data": {
      "text/html": [
       "<div>\n",
       "<style scoped>\n",
       "    .dataframe tbody tr th:only-of-type {\n",
       "        vertical-align: middle;\n",
       "    }\n",
       "\n",
       "    .dataframe tbody tr th {\n",
       "        vertical-align: top;\n",
       "    }\n",
       "\n",
       "    .dataframe thead th {\n",
       "        text-align: right;\n",
       "    }\n",
       "</style>\n",
       "<table border=\"1\" class=\"dataframe\">\n",
       "  <thead>\n",
       "    <tr style=\"text-align: right;\">\n",
       "      <th></th>\n",
       "      <th>adj_close</th>\n",
       "      <th>Date</th>\n",
       "    </tr>\n",
       "  </thead>\n",
       "  <tbody>\n",
       "    <tr>\n",
       "      <th>0</th>\n",
       "      <td>18.704624</td>\n",
       "      <td>2008-01-02</td>\n",
       "    </tr>\n",
       "    <tr>\n",
       "      <th>1</th>\n",
       "      <td>18.713264</td>\n",
       "      <td>2008-01-03</td>\n",
       "    </tr>\n",
       "    <tr>\n",
       "      <th>2</th>\n",
       "      <td>17.284782</td>\n",
       "      <td>2008-01-04</td>\n",
       "    </tr>\n",
       "    <tr>\n",
       "      <th>3</th>\n",
       "      <td>17.053425</td>\n",
       "      <td>2008-01-07</td>\n",
       "    </tr>\n",
       "    <tr>\n",
       "      <th>4</th>\n",
       "      <td>16.439983</td>\n",
       "      <td>2008-01-08</td>\n",
       "    </tr>\n",
       "  </tbody>\n",
       "</table>\n",
       "</div>"
      ],
      "text/plain": [
       "   adj_close        Date\n",
       "0  18.704624  2008-01-02\n",
       "1  18.713264  2008-01-03\n",
       "2  17.284782  2008-01-04\n",
       "3  17.053425  2008-01-07\n",
       "4  16.439983  2008-01-08"
      ]
     },
     "execution_count": 241,
     "metadata": {},
     "output_type": "execute_result"
    }
   ],
   "source": [
    "mvavg_ten_train = df\n",
    "mvavg_ten_train.head()"
   ]
  },
  {
   "cell_type": "code",
   "execution_count": 242,
   "metadata": {},
   "outputs": [],
   "source": [
    "mvavg_ten_train.to_csv(\"/Users/devinbarger/Desktop/Project3/mvavg_ten_train_clean.csv\")"
   ]
  },
  {
   "cell_type": "code",
   "execution_count": 243,
   "metadata": {},
   "outputs": [],
   "source": [
    "# 10 year test data moving average"
   ]
  },
  {
   "cell_type": "code",
   "execution_count": 244,
   "metadata": {},
   "outputs": [],
   "source": [
    "df = pd.read_csv(\"/Users/devinbarger/Desktop/Project3/test_data_10_aapl_mvavg.csv\")"
   ]
  },
  {
   "cell_type": "code",
   "execution_count": 245,
   "metadata": {},
   "outputs": [],
   "source": [
    "df['Date'] = mvavg_format_dates(df)"
   ]
  },
  {
   "cell_type": "code",
   "execution_count": 246,
   "metadata": {},
   "outputs": [],
   "source": [
    "df.drop(columns=[\"Unnamed: 0\", \"date\"], inplace=True)"
   ]
  },
  {
   "cell_type": "code",
   "execution_count": 247,
   "metadata": {},
   "outputs": [
    {
     "data": {
      "text/html": [
       "<div>\n",
       "<style scoped>\n",
       "    .dataframe tbody tr th:only-of-type {\n",
       "        vertical-align: middle;\n",
       "    }\n",
       "\n",
       "    .dataframe tbody tr th {\n",
       "        vertical-align: top;\n",
       "    }\n",
       "\n",
       "    .dataframe thead th {\n",
       "        text-align: right;\n",
       "    }\n",
       "</style>\n",
       "<table border=\"1\" class=\"dataframe\">\n",
       "  <thead>\n",
       "    <tr style=\"text-align: right;\">\n",
       "      <th></th>\n",
       "      <th>adj_close</th>\n",
       "      <th>pred</th>\n",
       "      <th>Date</th>\n",
       "    </tr>\n",
       "  </thead>\n",
       "  <tbody>\n",
       "    <tr>\n",
       "      <th>0</th>\n",
       "      <td>113.013916</td>\n",
       "      <td>105.301018</td>\n",
       "      <td>2017-01-03</td>\n",
       "    </tr>\n",
       "    <tr>\n",
       "      <th>1</th>\n",
       "      <td>112.887413</td>\n",
       "      <td>105.268593</td>\n",
       "      <td>2017-01-04</td>\n",
       "    </tr>\n",
       "    <tr>\n",
       "      <th>2</th>\n",
       "      <td>113.461502</td>\n",
       "      <td>105.235770</td>\n",
       "      <td>2017-01-05</td>\n",
       "    </tr>\n",
       "    <tr>\n",
       "      <th>3</th>\n",
       "      <td>114.726402</td>\n",
       "      <td>105.196185</td>\n",
       "      <td>2017-01-06</td>\n",
       "    </tr>\n",
       "    <tr>\n",
       "      <th>4</th>\n",
       "      <td>115.777237</td>\n",
       "      <td>105.156914</td>\n",
       "      <td>2017-01-09</td>\n",
       "    </tr>\n",
       "  </tbody>\n",
       "</table>\n",
       "</div>"
      ],
      "text/plain": [
       "    adj_close        pred        Date\n",
       "0  113.013916  105.301018  2017-01-03\n",
       "1  112.887413  105.268593  2017-01-04\n",
       "2  113.461502  105.235770  2017-01-05\n",
       "3  114.726402  105.196185  2017-01-06\n",
       "4  115.777237  105.156914  2017-01-09"
      ]
     },
     "execution_count": 247,
     "metadata": {},
     "output_type": "execute_result"
    }
   ],
   "source": [
    "mvavg_ten_test = df\n",
    "mvavg_ten_test.head()"
   ]
  },
  {
   "cell_type": "code",
   "execution_count": 248,
   "metadata": {},
   "outputs": [],
   "source": [
    "mvavg_ten_test.to_csv('/Users/devinbarger/Desktop/Project3/mvavg_ten_test_clean.csv')"
   ]
  },
  {
   "cell_type": "code",
   "execution_count": 249,
   "metadata": {},
   "outputs": [],
   "source": [
    "# 5 year moving average\n",
    "client = MongoClient('mongodb://localhost:27017/')\n",
    "db = client.stocks\n",
    "col = db.aapl_ten_mvavg\n",
    "\n",
    "data_list = []\n",
    "    \n",
    "for index,row in mvavg_ten_train.iterrows():\n",
    "    training_dict = {}\n",
    "    training_dict['adj_close'] = row['adj_close']\n",
    "    training_dict['date'] = row['Date']\n",
    "    training_dict['set'] = 'training'\n",
    "    data_list.append(training_dict)\n",
    "    \n",
    "for index,row in mvavg_ten_test.iterrows():\n",
    "    test_dict = {}\n",
    "    test_dict['adj_close'] = row['adj_close']\n",
    "    test_dict['pred'] = row['pred']\n",
    "    test_dict['date'] = row['Date']\n",
    "    test_dict['set'] = 'test'\n",
    "    data_list.append(test_dict)\n",
    "    \n",
    "for data in data_list:\n",
    "    col.insert_one(data)"
   ]
  },
  {
   "cell_type": "code",
   "execution_count": null,
   "metadata": {},
   "outputs": [],
   "source": []
  }
 ],
 "metadata": {
  "kernelspec": {
   "display_name": "Python 3",
   "language": "python",
   "name": "python3"
  },
  "language_info": {
   "codemirror_mode": {
    "name": "ipython",
    "version": 3
   },
   "file_extension": ".py",
   "mimetype": "text/x-python",
   "name": "python",
   "nbconvert_exporter": "python",
   "pygments_lexer": "ipython3",
   "version": "3.6.8"
  }
 },
 "nbformat": 4,
 "nbformat_minor": 2
}
