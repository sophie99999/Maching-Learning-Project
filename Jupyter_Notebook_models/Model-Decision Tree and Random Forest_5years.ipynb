{
 "cells": [
  {
   "cell_type": "code",
   "execution_count": 1,
   "metadata": {},
   "outputs": [],
   "source": [
    "import pandas as pd\n",
    "from sklearn import tree"
   ]
  },
  {
   "cell_type": "code",
   "execution_count": 2,
   "metadata": {},
   "outputs": [],
   "source": [
    "five_year=pd.read_csv('../five_year.csv')"
   ]
  },
  {
   "cell_type": "code",
   "execution_count": 3,
   "metadata": {},
   "outputs": [
    {
     "data": {
      "text/html": [
       "<div>\n",
       "<style scoped>\n",
       "    .dataframe tbody tr th:only-of-type {\n",
       "        vertical-align: middle;\n",
       "    }\n",
       "\n",
       "    .dataframe tbody tr th {\n",
       "        vertical-align: top;\n",
       "    }\n",
       "\n",
       "    .dataframe thead th {\n",
       "        text-align: right;\n",
       "    }\n",
       "</style>\n",
       "<table border=\"1\" class=\"dataframe\">\n",
       "  <thead>\n",
       "    <tr style=\"text-align: right;\">\n",
       "      <th></th>\n",
       "      <th>name</th>\n",
       "      <th>ticker</th>\n",
       "      <th>open</th>\n",
       "      <th>close</th>\n",
       "      <th>adj_close</th>\n",
       "      <th>low</th>\n",
       "      <th>high</th>\n",
       "      <th>volume</th>\n",
       "      <th>market_signal</th>\n",
       "    </tr>\n",
       "  </thead>\n",
       "  <tbody>\n",
       "    <tr>\n",
       "      <th>2</th>\n",
       "      <td>APPLE INC.</td>\n",
       "      <td>AAPL</td>\n",
       "      <td>79.117142</td>\n",
       "      <td>78.432854</td>\n",
       "      <td>56.118870</td>\n",
       "      <td>77.375717</td>\n",
       "      <td>79.285713</td>\n",
       "      <td>140129500</td>\n",
       "      <td>sell</td>\n",
       "    </tr>\n",
       "    <tr>\n",
       "      <th>403</th>\n",
       "      <td>APPLE INC.</td>\n",
       "      <td>AAPL</td>\n",
       "      <td>78.268570</td>\n",
       "      <td>77.442856</td>\n",
       "      <td>55.410530</td>\n",
       "      <td>77.285713</td>\n",
       "      <td>78.524284</td>\n",
       "      <td>88241300</td>\n",
       "      <td>sell</td>\n",
       "    </tr>\n",
       "    <tr>\n",
       "      <th>803</th>\n",
       "      <td>APPLE INC.</td>\n",
       "      <td>AAPL</td>\n",
       "      <td>76.709999</td>\n",
       "      <td>75.285713</td>\n",
       "      <td>53.867073</td>\n",
       "      <td>75.118568</td>\n",
       "      <td>76.947144</td>\n",
       "      <td>148583400</td>\n",
       "      <td>sell</td>\n",
       "    </tr>\n",
       "    <tr>\n",
       "      <th>1202</th>\n",
       "      <td>APPLE INC.</td>\n",
       "      <td>AAPL</td>\n",
       "      <td>74.571426</td>\n",
       "      <td>74.842857</td>\n",
       "      <td>53.550209</td>\n",
       "      <td>73.599998</td>\n",
       "      <td>75.614288</td>\n",
       "      <td>121039100</td>\n",
       "      <td>buy</td>\n",
       "    </tr>\n",
       "    <tr>\n",
       "      <th>1601</th>\n",
       "      <td>APPLE INC.</td>\n",
       "      <td>AAPL</td>\n",
       "      <td>75.601425</td>\n",
       "      <td>75.044289</td>\n",
       "      <td>53.694336</td>\n",
       "      <td>74.464287</td>\n",
       "      <td>75.984283</td>\n",
       "      <td>114676800</td>\n",
       "      <td>sell</td>\n",
       "    </tr>\n",
       "  </tbody>\n",
       "</table>\n",
       "</div>"
      ],
      "text/plain": [
       "            name ticker       open      close  adj_close        low  \\\n",
       "2     APPLE INC.   AAPL  79.117142  78.432854  56.118870  77.375717   \n",
       "403   APPLE INC.   AAPL  78.268570  77.442856  55.410530  77.285713   \n",
       "803   APPLE INC.   AAPL  76.709999  75.285713  53.867073  75.118568   \n",
       "1202  APPLE INC.   AAPL  74.571426  74.842857  53.550209  73.599998   \n",
       "1601  APPLE INC.   AAPL  75.601425  75.044289  53.694336  74.464287   \n",
       "\n",
       "           high     volume market_signal  \n",
       "2     79.285713  140129500          sell  \n",
       "403   78.524284   88241300          sell  \n",
       "803   76.947144  148583400          sell  \n",
       "1202  75.614288  121039100           buy  \n",
       "1601  75.984283  114676800          sell  "
      ]
     },
     "execution_count": 3,
     "metadata": {},
     "output_type": "execute_result"
    }
   ],
   "source": [
    "# Extract Apple stock\n",
    "five_year=five_year.loc[five_year['ticker'] == 'AAPL']\n",
    "five_year.head()\n",
    "#apple_five_year.shape"
   ]
  },
  {
   "cell_type": "code",
   "execution_count": 4,
   "metadata": {},
   "outputs": [
    {
     "name": "stdout",
     "output_type": "stream",
     "text": [
      "(1423, 6) (1423,)\n"
     ]
    }
   ],
   "source": [
    "# Set features. This will be used as X values.\n",
    "feature=five_year[[\"open\",\"close\",\"adj_close\",\"low\",\"high\",\"volume\"]]\n",
    "feature_names=feature.columns\n",
    "\n",
    "# Target values will come from \"market_signal\" column\n",
    "target=five_year[\"market_signal\"]\n",
    "\n",
    "\n",
    "print(feature.shape,target.shape)"
   ]
  },
  {
   "cell_type": "code",
   "execution_count": 5,
   "metadata": {},
   "outputs": [],
   "source": [
    "from sklearn.model_selection import train_test_split\n",
    "X_train,X_test,y_train,y_test=train_test_split(feature,target,random_state=10,stratify=target)"
   ]
  },
  {
   "cell_type": "code",
   "execution_count": 6,
   "metadata": {},
   "outputs": [],
   "source": [
    "# Scale the data by using MinMaxScaler\n",
    "from sklearn.preprocessing import MinMaxScaler\n",
    "scaler=MinMaxScaler().fit(X_train)\n",
    "X_train=scaler.transform(X_train)\n",
    "X_test=scaler.transform(X_test)"
   ]
  },
  {
   "cell_type": "code",
   "execution_count": 7,
   "metadata": {},
   "outputs": [
    {
     "data": {
      "text/plain": [
       "0.7303370786516854"
      ]
     },
     "execution_count": 7,
     "metadata": {},
     "output_type": "execute_result"
    }
   ],
   "source": [
    "# Decision Tree \n",
    "clf=tree.DecisionTreeClassifier()\n",
    "clf=clf.fit(X_train,y_train)\n",
    "clf.score(X_test,y_test)"
   ]
  },
  {
   "cell_type": "code",
   "execution_count": 8,
   "metadata": {},
   "outputs": [
    {
     "data": {
      "text/plain": [
       "0.7668539325842697"
      ]
     },
     "execution_count": 8,
     "metadata": {},
     "output_type": "execute_result"
    }
   ],
   "source": [
    "# Random Forest\n",
    "from sklearn.ensemble import RandomForestClassifier\n",
    "rf=RandomForestClassifier(n_estimators=200)\n",
    "rf=rf.fit(X_train,y_train)\n",
    "rf.score(X_test,y_test)\n",
    "\n",
    "# Random Forest model is more precise than Decision Tree model. Hyperparameter tuning can be advantageous \n",
    "# in creating a model that is better at classification. In the case of a random forest, it may not be \n",
    "# necessary, as random forests are already very good at classification. "
   ]
  },
  {
   "cell_type": "code",
   "execution_count": 9,
   "metadata": {},
   "outputs": [
    {
     "data": {
      "text/plain": [
       "[(0.21909293979426753, 'open'),\n",
       " (0.1859495235221611, 'close'),\n",
       " (0.17081534821118843, 'adj_close'),\n",
       " (0.14319394188918386, 'low'),\n",
       " (0.14295060872658608, 'high'),\n",
       " (0.13799763785661298, 'volume')]"
      ]
     },
     "execution_count": 9,
     "metadata": {},
     "output_type": "execute_result"
    }
   ],
   "source": [
    "# Feature importance, we can see that open price plays the biggest row comparing to other features\n",
    "sorted(zip(rf.feature_importances_,feature_names),reverse=True)"
   ]
  },
  {
   "cell_type": "code",
   "execution_count": 11,
   "metadata": {},
   "outputs": [
    {
     "data": {
      "text/plain": [
       "['../saved models/DecisionTree_and_RandonForest_5.sav']"
      ]
     },
     "execution_count": 11,
     "metadata": {},
     "output_type": "execute_result"
    }
   ],
   "source": [
    "# Save the random forest model \n",
    "import joblib\n",
    "filename = '../saved models/DecisionTree_and_RandonForest_5.sav'\n",
    "joblib.dump(rf, filename)"
   ]
  },
  {
   "cell_type": "code",
   "execution_count": null,
   "metadata": {},
   "outputs": [],
   "source": []
  }
 ],
 "metadata": {
  "kernelspec": {
   "display_name": "Python 3",
   "language": "python",
   "name": "python3"
  },
  "language_info": {
   "codemirror_mode": {
    "name": "ipython",
    "version": 3
   },
   "file_extension": ".py",
   "mimetype": "text/x-python",
   "name": "python",
   "nbconvert_exporter": "python",
   "pygments_lexer": "ipython3",
   "version": "3.7.3"
  }
 },
 "nbformat": 4,
 "nbformat_minor": 2
}
