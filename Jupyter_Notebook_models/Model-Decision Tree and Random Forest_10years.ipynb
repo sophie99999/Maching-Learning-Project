{
 "cells": [
  {
   "cell_type": "code",
   "execution_count": 21,
   "metadata": {},
   "outputs": [],
   "source": [
    "import pandas as pd\n",
    "from sklearn import tree"
   ]
  },
  {
   "cell_type": "code",
   "execution_count": 32,
   "metadata": {},
   "outputs": [
    {
     "data": {
      "text/html": [
       "<div>\n",
       "<style scoped>\n",
       "    .dataframe tbody tr th:only-of-type {\n",
       "        vertical-align: middle;\n",
       "    }\n",
       "\n",
       "    .dataframe tbody tr th {\n",
       "        vertical-align: top;\n",
       "    }\n",
       "\n",
       "    .dataframe thead th {\n",
       "        text-align: right;\n",
       "    }\n",
       "</style>\n",
       "<table border=\"1\" class=\"dataframe\">\n",
       "  <thead>\n",
       "    <tr style=\"text-align: right;\">\n",
       "      <th></th>\n",
       "      <th>name</th>\n",
       "      <th>ticker</th>\n",
       "      <th>open</th>\n",
       "      <th>close</th>\n",
       "      <th>adj_close</th>\n",
       "      <th>low</th>\n",
       "      <th>high</th>\n",
       "      <th>volume</th>\n",
       "      <th>market_signal</th>\n",
       "    </tr>\n",
       "  </thead>\n",
       "  <tbody>\n",
       "    <tr>\n",
       "      <th>0</th>\n",
       "      <td>ALTABA INC.</td>\n",
       "      <td>AABA</td>\n",
       "      <td>23.799999</td>\n",
       "      <td>23.719999</td>\n",
       "      <td>23.719999</td>\n",
       "      <td>23.600000</td>\n",
       "      <td>24.150000</td>\n",
       "      <td>25671700</td>\n",
       "      <td>sell</td>\n",
       "    </tr>\n",
       "    <tr>\n",
       "      <th>1</th>\n",
       "      <td>AARON&amp;#39;S,  INC.</td>\n",
       "      <td>AAN</td>\n",
       "      <td>11.366667</td>\n",
       "      <td>11.213333</td>\n",
       "      <td>10.835422</td>\n",
       "      <td>11.166667</td>\n",
       "      <td>11.473333</td>\n",
       "      <td>1600</td>\n",
       "      <td>sell</td>\n",
       "    </tr>\n",
       "    <tr>\n",
       "      <th>2</th>\n",
       "      <td>APPLE INC.</td>\n",
       "      <td>AAPL</td>\n",
       "      <td>28.467142</td>\n",
       "      <td>27.834286</td>\n",
       "      <td>18.704624</td>\n",
       "      <td>27.507143</td>\n",
       "      <td>28.608572</td>\n",
       "      <td>269794700</td>\n",
       "      <td>sell</td>\n",
       "    </tr>\n",
       "    <tr>\n",
       "      <th>3</th>\n",
       "      <td>ACI WORLDWIDE, INC.</td>\n",
       "      <td>ACIW</td>\n",
       "      <td>6.326667</td>\n",
       "      <td>6.096667</td>\n",
       "      <td>6.096667</td>\n",
       "      <td>6.026667</td>\n",
       "      <td>6.460000</td>\n",
       "      <td>2103300</td>\n",
       "      <td>sell</td>\n",
       "    </tr>\n",
       "    <tr>\n",
       "      <th>4</th>\n",
       "      <td>AXCELIS TECHNOLOGIES, INC.</td>\n",
       "      <td>ACLS</td>\n",
       "      <td>18.320000</td>\n",
       "      <td>18.760000</td>\n",
       "      <td>18.760000</td>\n",
       "      <td>18.280001</td>\n",
       "      <td>19.240000</td>\n",
       "      <td>122100</td>\n",
       "      <td>buy</td>\n",
       "    </tr>\n",
       "  </tbody>\n",
       "</table>\n",
       "</div>"
      ],
      "text/plain": [
       "                         name ticker       open      close  adj_close  \\\n",
       "0                 ALTABA INC.   AABA  23.799999  23.719999  23.719999   \n",
       "1          AARON&#39;S,  INC.    AAN  11.366667  11.213333  10.835422   \n",
       "2                  APPLE INC.   AAPL  28.467142  27.834286  18.704624   \n",
       "3         ACI WORLDWIDE, INC.   ACIW   6.326667   6.096667   6.096667   \n",
       "4  AXCELIS TECHNOLOGIES, INC.   ACLS  18.320000  18.760000  18.760000   \n",
       "\n",
       "         low       high     volume market_signal  \n",
       "0  23.600000  24.150000   25671700          sell  \n",
       "1  11.166667  11.473333       1600          sell  \n",
       "2  27.507143  28.608572  269794700          sell  \n",
       "3   6.026667   6.460000    2103300          sell  \n",
       "4  18.280001  19.240000     122100           buy  "
      ]
     },
     "execution_count": 32,
     "metadata": {},
     "output_type": "execute_result"
    }
   ],
   "source": [
    "ten_year=pd.read_csv('../ten_year.csv')\n",
    "ten_year.head()"
   ]
  },
  {
   "cell_type": "code",
   "execution_count": 23,
   "metadata": {},
   "outputs": [
    {
     "data": {
      "text/html": [
       "<div>\n",
       "<style scoped>\n",
       "    .dataframe tbody tr th:only-of-type {\n",
       "        vertical-align: middle;\n",
       "    }\n",
       "\n",
       "    .dataframe tbody tr th {\n",
       "        vertical-align: top;\n",
       "    }\n",
       "\n",
       "    .dataframe thead th {\n",
       "        text-align: right;\n",
       "    }\n",
       "</style>\n",
       "<table border=\"1\" class=\"dataframe\">\n",
       "  <thead>\n",
       "    <tr style=\"text-align: right;\">\n",
       "      <th></th>\n",
       "      <th>name</th>\n",
       "      <th>ticker</th>\n",
       "      <th>open</th>\n",
       "      <th>close</th>\n",
       "      <th>adj_close</th>\n",
       "      <th>low</th>\n",
       "      <th>high</th>\n",
       "      <th>volume</th>\n",
       "      <th>market_signal</th>\n",
       "    </tr>\n",
       "  </thead>\n",
       "  <tbody>\n",
       "    <tr>\n",
       "      <th>2</th>\n",
       "      <td>APPLE INC.</td>\n",
       "      <td>AAPL</td>\n",
       "      <td>28.467142</td>\n",
       "      <td>27.834286</td>\n",
       "      <td>18.704624</td>\n",
       "      <td>27.507143</td>\n",
       "      <td>28.608572</td>\n",
       "      <td>269794700</td>\n",
       "      <td>sell</td>\n",
       "    </tr>\n",
       "    <tr>\n",
       "      <th>342</th>\n",
       "      <td>APPLE INC.</td>\n",
       "      <td>AAPL</td>\n",
       "      <td>27.915714</td>\n",
       "      <td>27.847143</td>\n",
       "      <td>18.713264</td>\n",
       "      <td>27.527143</td>\n",
       "      <td>28.198572</td>\n",
       "      <td>210516600</td>\n",
       "      <td>sell</td>\n",
       "    </tr>\n",
       "    <tr>\n",
       "      <th>672</th>\n",
       "      <td>APPLE INC.</td>\n",
       "      <td>AAPL</td>\n",
       "      <td>27.350000</td>\n",
       "      <td>25.721428</td>\n",
       "      <td>17.284782</td>\n",
       "      <td>25.555714</td>\n",
       "      <td>27.571428</td>\n",
       "      <td>363958000</td>\n",
       "      <td>sell</td>\n",
       "    </tr>\n",
       "    <tr>\n",
       "      <th>1005</th>\n",
       "      <td>APPLE INC.</td>\n",
       "      <td>AAPL</td>\n",
       "      <td>25.892857</td>\n",
       "      <td>25.377142</td>\n",
       "      <td>17.053425</td>\n",
       "      <td>24.318571</td>\n",
       "      <td>26.228571</td>\n",
       "      <td>518048300</td>\n",
       "      <td>sell</td>\n",
       "    </tr>\n",
       "    <tr>\n",
       "      <th>1340</th>\n",
       "      <td>APPLE INC.</td>\n",
       "      <td>AAPL</td>\n",
       "      <td>25.734285</td>\n",
       "      <td>24.464285</td>\n",
       "      <td>16.439983</td>\n",
       "      <td>24.400000</td>\n",
       "      <td>26.065714</td>\n",
       "      <td>380954000</td>\n",
       "      <td>sell</td>\n",
       "    </tr>\n",
       "  </tbody>\n",
       "</table>\n",
       "</div>"
      ],
      "text/plain": [
       "            name ticker       open      close  adj_close        low  \\\n",
       "2     APPLE INC.   AAPL  28.467142  27.834286  18.704624  27.507143   \n",
       "342   APPLE INC.   AAPL  27.915714  27.847143  18.713264  27.527143   \n",
       "672   APPLE INC.   AAPL  27.350000  25.721428  17.284782  25.555714   \n",
       "1005  APPLE INC.   AAPL  25.892857  25.377142  17.053425  24.318571   \n",
       "1340  APPLE INC.   AAPL  25.734285  24.464285  16.439983  24.400000   \n",
       "\n",
       "           high     volume market_signal  \n",
       "2     28.608572  269794700          sell  \n",
       "342   28.198572  210516600          sell  \n",
       "672   27.571428  363958000          sell  \n",
       "1005  26.228571  518048300          sell  \n",
       "1340  26.065714  380954000          sell  "
      ]
     },
     "execution_count": 23,
     "metadata": {},
     "output_type": "execute_result"
    }
   ],
   "source": [
    "# Extract Apple stock\n",
    "ten_year=ten_year.loc[ten_year['ticker'] == 'AAPL']\n",
    "ten_year.head()\n",
    "#ten_year.shape"
   ]
  },
  {
   "cell_type": "code",
   "execution_count": 24,
   "metadata": {},
   "outputs": [
    {
     "name": "stdout",
     "output_type": "stream",
     "text": [
      "(2682, 6) (2682,)\n"
     ]
    }
   ],
   "source": [
    "# Set features. This will be used as X values.\n",
    "feature=ten_year[[\"open\",\"close\",\"adj_close\",\"low\",\"high\",\"volume\"]]\n",
    "feature_names=feature.columns\n",
    "\n",
    "# Target values will come from \"market_signal\" column\n",
    "target=ten_year[\"market_signal\"]\n",
    "\n",
    "\n",
    "print(feature.shape,target.shape)"
   ]
  },
  {
   "cell_type": "code",
   "execution_count": 25,
   "metadata": {},
   "outputs": [],
   "source": [
    "from sklearn.model_selection import train_test_split\n",
    "X_train,X_test,y_train,y_test=train_test_split(feature,target,random_state=10,stratify=target)"
   ]
  },
  {
   "cell_type": "code",
   "execution_count": 26,
   "metadata": {},
   "outputs": [],
   "source": [
    "# Scale the data by using MinMaxScaler\n",
    "from sklearn.preprocessing import MinMaxScaler\n",
    "scaler=MinMaxScaler().fit(X_train)\n",
    "X_train=scaler.transform(X_train)\n",
    "X_test=scaler.transform(X_test)"
   ]
  },
  {
   "cell_type": "code",
   "execution_count": 27,
   "metadata": {},
   "outputs": [
    {
     "data": {
      "text/plain": [
       "0.6274217585692996"
      ]
     },
     "execution_count": 27,
     "metadata": {},
     "output_type": "execute_result"
    }
   ],
   "source": [
    "# Decision Tree \n",
    "clf=tree.DecisionTreeClassifier()\n",
    "clf=clf.fit(X_train,y_train)\n",
    "clf.score(X_test,y_test)"
   ]
  },
  {
   "cell_type": "code",
   "execution_count": 28,
   "metadata": {},
   "outputs": [
    {
     "data": {
      "text/plain": [
       "0.6855439642324889"
      ]
     },
     "execution_count": 28,
     "metadata": {},
     "output_type": "execute_result"
    }
   ],
   "source": [
    "# Random Forest\n",
    "from sklearn.ensemble import RandomForestClassifier\n",
    "rf=RandomForestClassifier(n_estimators=200)\n",
    "rf=rf.fit(X_train,y_train)\n",
    "rf.score(X_test,y_test)\n",
    "\n",
    "# Random Forest model is more precise than Decision Tree model. Hyperparameter tuning can be advantageous \n",
    "# in creating a model that is better at classification. In the case of a random forest, it may not be \n",
    "# necessary, as random forests are already very good at classification. "
   ]
  },
  {
   "cell_type": "code",
   "execution_count": 29,
   "metadata": {},
   "outputs": [
    {
     "data": {
      "text/plain": [
       "[(0.214234420525266, 'open'),\n",
       " (0.18273078760338368, 'close'),\n",
       " (0.15999879101335565, 'adj_close'),\n",
       " (0.15591982800790288, 'volume'),\n",
       " (0.14425666416614966, 'low'),\n",
       " (0.1428595086839422, 'high')]"
      ]
     },
     "execution_count": 29,
     "metadata": {},
     "output_type": "execute_result"
    }
   ],
   "source": [
    "# Feature importance, we can see that open price plays the biggest row comparing to other features\n",
    "sorted(zip(rf.feature_importances_,feature_names),reverse=True)"
   ]
  },
  {
   "cell_type": "code",
   "execution_count": 33,
   "metadata": {},
   "outputs": [
    {
     "data": {
      "text/plain": [
       "['../saved models/DecisionTree_and_RandonForest_10.sav']"
      ]
     },
     "execution_count": 33,
     "metadata": {},
     "output_type": "execute_result"
    }
   ],
   "source": [
    "# Save the random forest model \n",
    "import joblib\n",
    "filename = '../saved models/DecisionTree_and_RandonForest_10.sav'\n",
    "joblib.dump(rf, filename)"
   ]
  },
  {
   "cell_type": "code",
   "execution_count": null,
   "metadata": {},
   "outputs": [],
   "source": []
  },
  {
   "cell_type": "code",
   "execution_count": null,
   "metadata": {},
   "outputs": [],
   "source": []
  },
  {
   "cell_type": "code",
   "execution_count": null,
   "metadata": {},
   "outputs": [],
   "source": []
  }
 ],
 "metadata": {
  "kernelspec": {
   "display_name": "Python 3",
   "language": "python",
   "name": "python3"
  },
  "language_info": {
   "codemirror_mode": {
    "name": "ipython",
    "version": 3
   },
   "file_extension": ".py",
   "mimetype": "text/x-python",
   "name": "python",
   "nbconvert_exporter": "python",
   "pygments_lexer": "ipython3",
   "version": "3.7.3"
  }
 },
 "nbformat": 4,
 "nbformat_minor": 2
}
